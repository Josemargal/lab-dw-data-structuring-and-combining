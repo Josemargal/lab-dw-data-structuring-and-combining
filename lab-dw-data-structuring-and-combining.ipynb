{
 "cells": [
  {
   "cell_type": "markdown",
   "id": "25d7736c-ba17-4aff-b6bb-66eba20fbf4e",
   "metadata": {
    "id": "25d7736c-ba17-4aff-b6bb-66eba20fbf4e"
   },
   "source": [
    "# Lab | Data Structuring and Combining Data"
   ]
  },
  {
   "cell_type": "markdown",
   "id": "a2cdfc70-44c8-478c-81e7-2bc43fdf4986",
   "metadata": {
    "id": "a2cdfc70-44c8-478c-81e7-2bc43fdf4986"
   },
   "source": [
    "## Challenge 1: Combining & Cleaning Data\n",
    "\n",
    "In this challenge, we will be working with the customer data from an insurance company, as we did in the two previous labs. The data can be found here:\n",
    "- https://raw.githubusercontent.com/data-bootcamp-v4/data/main/file1.csv\n",
    "\n",
    "But this time, we got new data, which can be found in the following 2 CSV files located at the links below.\n",
    "\n",
    "- https://raw.githubusercontent.com/data-bootcamp-v4/data/main/file2.csv\n",
    "- https://raw.githubusercontent.com/data-bootcamp-v4/data/main/file3.csv\n",
    "\n",
    "Note that you'll need to clean and format the new data.\n",
    "\n",
    "Observation:\n",
    "- One option is to first combine the three datasets and then apply the cleaning function to the new combined dataset\n",
    "- Another option would be to read the clean file you saved in the previous lab, and just clean the two new files and concatenate the three clean datasets"
   ]
  },
  {
   "cell_type": "code",
   "execution_count": 3,
   "id": "492d06e3-92c7-4105-ac72-536db98d3244",
   "metadata": {
    "id": "492d06e3-92c7-4105-ac72-536db98d3244"
   },
   "outputs": [
    {
     "name": "stdout",
     "output_type": "stream",
     "text": [
      "  Customer          ST GENDER             Education Customer Lifetime Value  \\\n",
      "0  RB50392  Washington    NaN                Master                     NaN   \n",
      "1  QZ44356     Arizona      F              Bachelor              697953.59%   \n",
      "2  AI49188      Nevada      F              Bachelor             1288743.17%   \n",
      "3  WW63253  California      M              Bachelor              764586.18%   \n",
      "4  GA49547  Washington      M  High School or Below              536307.65%   \n",
      "\n",
      "    Income  Monthly Premium Auto Number of Open Complaints     Policy Type  \\\n",
      "0      0.0                1000.0                    1/0/00   Personal Auto   \n",
      "1      0.0                  94.0                    1/0/00   Personal Auto   \n",
      "2  48767.0                 108.0                    1/0/00   Personal Auto   \n",
      "3      0.0                 106.0                    1/0/00  Corporate Auto   \n",
      "4  36357.0                  68.0                    1/0/00   Personal Auto   \n",
      "\n",
      "   Vehicle Class  Total Claim Amount State Gender  \n",
      "0  Four-Door Car            2.704934   NaN    NaN  \n",
      "1  Four-Door Car         1131.464935   NaN    NaN  \n",
      "2   Two-Door Car          566.472247   NaN    NaN  \n",
      "3            SUV          529.881344   NaN    NaN  \n",
      "4  Four-Door Car           17.269323   NaN    NaN  \n",
      "<class 'pandas.core.frame.DataFrame'>\n",
      "Index: 12074 entries, 0 to 7069\n",
      "Data columns (total 13 columns):\n",
      " #   Column                     Non-Null Count  Dtype  \n",
      "---  ------                     --------------  -----  \n",
      " 0   Customer                   9137 non-null   object \n",
      " 1   ST                         2067 non-null   object \n",
      " 2   GENDER                     1945 non-null   object \n",
      " 3   Education                  9137 non-null   object \n",
      " 4   Customer Lifetime Value    9130 non-null   object \n",
      " 5   Income                     9137 non-null   float64\n",
      " 6   Monthly Premium Auto       9137 non-null   float64\n",
      " 7   Number of Open Complaints  9137 non-null   object \n",
      " 8   Policy Type                9137 non-null   object \n",
      " 9   Vehicle Class              9137 non-null   object \n",
      " 10  Total Claim Amount         9137 non-null   float64\n",
      " 11  State                      7070 non-null   object \n",
      " 12  Gender                     7070 non-null   object \n",
      "dtypes: float64(3), object(10)\n",
      "memory usage: 1.3+ MB\n",
      "None\n"
     ]
    }
   ],
   "source": [
    "import pandas as pd\n",
    "\n",
    "url1 = \"https://raw.githubusercontent.com/data-bootcamp-v4/data/main/file1.csv\"\n",
    "url2 = \"https://raw.githubusercontent.com/data-bootcamp-v4/data/main/file2.csv\"\n",
    "url3 = \"https://raw.githubusercontent.com/data-bootcamp-v4/data/main/file3.csv\"\n",
    "\n",
    "df1 = pd.read_csv(url1)\n",
    "df2 = pd.read_csv(url2)\n",
    "df3 = pd.read_csv(url3)\n",
    "\n",
    "combined_df = pd.concat([df1, df2, df3])\n",
    "\n",
    "print(combined_df.head())\n",
    "print(combined_df.info())\n",
    "\n",
    "# Eliminar duplicados\n",
    "combined_df = combined_df.drop_duplicates()\n",
    "\n",
    "# Manejo de valores nulos (puedes decidir si quieres eliminar filas, columnas, o reemplazar valores nulos)\n",
    "combined_df = combined_df.dropna()  # Esto elimina filas con valores nulos\n",
    "\n",
    "# Corregir tipos de datos, si es necesario\n",
    "# Por ejemplo, si tienes una columna \"fecha\" que debería ser de tipo datetime\n",
    "if 'fecha' in combined_df.columns:\n",
    "    combined_df['fecha'] = pd.to_datetime(combined_df['fecha'])\n",
    "\n",
    "combined_df.to_csv(\"combined_cleaned_data.csv\", index=False)"
   ]
  },
  {
   "cell_type": "markdown",
   "id": "31b8a9e7-7db9-4604-991b-ef6771603e57",
   "metadata": {
    "id": "31b8a9e7-7db9-4604-991b-ef6771603e57"
   },
   "source": [
    "# Challenge 2: Structuring Data"
   ]
  },
  {
   "cell_type": "markdown",
   "id": "a877fd6d-7a0c-46d2-9657-f25036e4ca4b",
   "metadata": {
    "id": "a877fd6d-7a0c-46d2-9657-f25036e4ca4b"
   },
   "source": [
    "In this challenge, we will continue to work with customer data from an insurance company, but we will use a dataset with more columns, called marketing_customer_analysis.csv, which can be found at the following link:\n",
    "\n",
    "https://raw.githubusercontent.com/data-bootcamp-v4/data/main/marketing_customer_analysis_clean.csv\n",
    "\n",
    "This dataset contains information such as customer demographics, policy details, vehicle information, and the customer's response to the last marketing campaign. Our goal is to explore and analyze this data by performing data cleaning, formatting, and structuring."
   ]
  },
  {
   "cell_type": "code",
   "execution_count": 1,
   "id": "aa10d9b0-1c27-4d3f-a8e4-db6ab73bfd26",
   "metadata": {
    "id": "aa10d9b0-1c27-4d3f-a8e4-db6ab73bfd26"
   },
   "outputs": [
    {
     "name": "stdout",
     "output_type": "stream",
     "text": [
      "['Agent' 'Call Center' 'Branch' 'Web']\n",
      "0    48029\n",
      "1        0\n",
      "2    22139\n",
      "3    49078\n",
      "4    23675\n",
      "Name: income, dtype: int64\n",
      "                  income\n",
      "sales_channel           \n",
      "Agent          152490152\n",
      "Branch         113775608\n",
      "Call Center     81055004\n",
      "Web             62200103\n",
      "Análisis: La tabla muestra los ingresos totales generados por cada canal de ventas. Puedes observar cuál canal generó los mayores ingresos y hacer recomendaciones basadas en esto.\n",
      "gender                      F        M\n",
      "education                             \n",
      "Bachelor              7874.27  7703.60\n",
      "College               7748.82  8052.46\n",
      "Doctor                7328.51  7415.33\n",
      "High School or Below  8675.22  8149.69\n",
      "Master                8157.05  8168.83\n",
      "Análisis: La tabla muestra el valor de vida del cliente promedio segmentado por género y nivel educativo. Esta información puede ayudarte a entender mejor a tus clientes y a targear campañas de marketing de manera más efectiva.\n"
     ]
    }
   ],
   "source": [
    "import pandas as pd\n",
    "\n",
    "# Leer el dataset\n",
    "url = \"https://raw.githubusercontent.com/data-bootcamp-v4/data/main/marketing_customer_analysis_clean.csv\"\n",
    "df = pd.read_csv(url)\n",
    "\n",
    "# Verificar columnas\n",
    "print(df['sales_channel'].unique())\n",
    "print(df['income'].head())\n",
    "\n",
    "# Crear tabla pivote de ingresos totales por canal de ventas\n",
    "pivot_sales_channel = df.pivot_table(index='sales_channel', values='income', aggfunc='sum')\n",
    "pivot_sales_channel = pivot_sales_channel.round(2)\n",
    "\n",
    "print(pivot_sales_channel)\n",
    "\n",
    "# Análisis de ingresos por canal de ventas\n",
    "print(\"Análisis: La tabla muestra los ingresos totales generados por cada canal de ventas. Puedes observar cuál canal generó los mayores ingresos y hacer recomendaciones basadas en esto.\")\n",
    "\n",
    "# Crear tabla pivote del valor de vida del cliente promedio por género y nivel educativo\n",
    "pivot_clv = df.pivot_table(index='education', columns='gender', values='customer_lifetime_value', aggfunc='mean')\n",
    "pivot_clv = pivot_clv.round(2)\n",
    "\n",
    "print(pivot_clv)\n",
    "\n",
    "# Análisis del valor de vida del cliente promedio por género y nivel educativo\n",
    "print(\"Análisis: La tabla muestra el valor de vida del cliente promedio segmentado por género y nivel educativo. Esta información puede ayudarte a entender mejor a tus clientes y a targear campañas de marketing de manera más efectiva.\")"
   ]
  },
  {
   "cell_type": "markdown",
   "id": "df35fd0d-513e-4e77-867e-429da10a9cc7",
   "metadata": {
    "id": "df35fd0d-513e-4e77-867e-429da10a9cc7"
   },
   "source": [
    "1. You work at the marketing department and you want to know which sales channel brought the most sales in terms of total revenue. Using pivot, create a summary table showing the total revenue for each sales channel (branch, call center, web, and mail).\n",
    "Round the total revenue to 2 decimal points.  Analyze the resulting table to draw insights."
   ]
  },
  {
   "cell_type": "markdown",
   "id": "640993b2-a291-436c-a34d-a551144f8196",
   "metadata": {
    "id": "640993b2-a291-436c-a34d-a551144f8196"
   },
   "source": [
    "2. Create a pivot table that shows the average customer lifetime value per gender and education level. Analyze the resulting table to draw insights."
   ]
  },
  {
   "cell_type": "markdown",
   "id": "32c7f2e5-3d90-43e5-be33-9781b6069198",
   "metadata": {
    "id": "32c7f2e5-3d90-43e5-be33-9781b6069198"
   },
   "source": [
    "## Bonus\n",
    "\n",
    "You work at the customer service department and you want to know which months had the highest number of complaints by policy type category. Create a summary table showing the number of complaints by policy type and month.\n",
    "Show it in a long format table."
   ]
  },
  {
   "cell_type": "markdown",
   "id": "e3d09a8f-953c-448a-a5f8-2e5a8cca7291",
   "metadata": {
    "id": "e3d09a8f-953c-448a-a5f8-2e5a8cca7291"
   },
   "source": [
    "*In data analysis, a long format table is a way of structuring data in which each observation or measurement is stored in a separate row of the table. The key characteristic of a long format table is that each column represents a single variable, and each row represents a single observation of that variable.*\n",
    "\n",
    "*More information about long and wide format tables here: https://www.statology.org/long-vs-wide-data/*"
   ]
  },
  {
   "cell_type": "code",
   "execution_count": 2,
   "id": "3a069e0b-b400-470e-904d-d17582191be4",
   "metadata": {
    "id": "3a069e0b-b400-470e-904d-d17582191be4"
   },
   "outputs": [
    {
     "name": "stdout",
     "output_type": "stream",
     "text": [
      "['Corporate Auto' 'Personal Auto' 'Special Auto']\n",
      "[2 1]\n",
      "0    0.000000\n",
      "1    0.000000\n",
      "2    0.000000\n",
      "3    0.000000\n",
      "4    0.384256\n",
      "Name: number_of_open_complaints, dtype: float64\n",
      "policy_type  Corporate Auto  Personal Auto  Special Auto\n",
      "month                                                   \n",
      "1                443.434952    1727.605722     87.074049\n",
      "2                385.208135    1453.684441     95.226817\n",
      "   month     policy_type  number_of_complaints\n",
      "0      1  Corporate Auto            443.434952\n",
      "1      2  Corporate Auto            385.208135\n",
      "2      1   Personal Auto           1727.605722\n",
      "3      2   Personal Auto           1453.684441\n",
      "4      1    Special Auto             87.074049\n",
      "5      2    Special Auto             95.226817\n"
     ]
    }
   ],
   "source": [
    "import pandas as pd\n",
    "\n",
    "# Leer el dataset\n",
    "url = \"https://raw.githubusercontent.com/data-bootcamp-v4/data/main/marketing_customer_analysis_clean.csv\"\n",
    "df = pd.read_csv(url)\n",
    "\n",
    "# Verificar columnas\n",
    "print(df['policy_type'].unique())\n",
    "print(df['month'].unique())\n",
    "print(df['number_of_open_complaints'].head())\n",
    "\n",
    "# Crear tabla pivote de número de quejas por tipo de póliza y mes\n",
    "pivot_complaints = df.pivot_table(index='month', columns='policy_type', values='number_of_open_complaints', aggfunc='sum', fill_value=0)\n",
    "print(pivot_complaints)\n",
    "\n",
    "# Convertir la tabla pivote a formato largo\n",
    "long_format_complaints = pd.melt(pivot_complaints.reset_index(), id_vars=['month'], value_vars=pivot_complaints.columns, var_name='policy_type', value_name='number_of_complaints')\n",
    "print(long_format_complaints)"
   ]
  }
 ],
 "metadata": {
  "colab": {
   "provenance": []
  },
  "kernelspec": {
   "display_name": "Python 3 (ipykernel)",
   "language": "python",
   "name": "python3"
  },
  "language_info": {
   "codemirror_mode": {
    "name": "ipython",
    "version": 3
   },
   "file_extension": ".py",
   "mimetype": "text/x-python",
   "name": "python",
   "nbconvert_exporter": "python",
   "pygments_lexer": "ipython3",
   "version": "3.12.3"
  }
 },
 "nbformat": 4,
 "nbformat_minor": 5
}
